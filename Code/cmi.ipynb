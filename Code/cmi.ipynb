{
 "cells": [
  {
   "cell_type": "code",
   "execution_count": 7,
   "metadata": {},
   "outputs": [
    {
     "data": {
      "text/html": [
       "<div>\n",
       "<style scoped>\n",
       "    .dataframe tbody tr th:only-of-type {\n",
       "        vertical-align: middle;\n",
       "    }\n",
       "\n",
       "    .dataframe tbody tr th {\n",
       "        vertical-align: top;\n",
       "    }\n",
       "\n",
       "    .dataframe thead th {\n",
       "        text-align: right;\n",
       "    }\n",
       "</style>\n",
       "<table border=\"1\" class=\"dataframe\">\n",
       "  <thead>\n",
       "    <tr style=\"text-align: right;\">\n",
       "      <th></th>\n",
       "      <th>eng</th>\n",
       "      <th>hing</th>\n",
       "    </tr>\n",
       "  </thead>\n",
       "  <tbody>\n",
       "    <tr>\n",
       "      <th>0</th>\n",
       "      <td>hi</td>\n",
       "      <td>hi</td>\n",
       "    </tr>\n",
       "    <tr>\n",
       "      <th>1</th>\n",
       "      <td>what moviie did you see</td>\n",
       "      <td>tumne konsi movie dekhi</td>\n",
       "    </tr>\n",
       "    <tr>\n",
       "      <th>2</th>\n",
       "      <td>hello how are you? Have you heard of Batman Be...</td>\n",
       "      <td>hello tum kaise ho? Kya tumne Batman Begins ke...</td>\n",
       "    </tr>\n",
       "    <tr>\n",
       "      <th>3</th>\n",
       "      <td>no tell me more</td>\n",
       "      <td>nahi aur batao</td>\n",
       "    </tr>\n",
       "    <tr>\n",
       "      <th>4</th>\n",
       "      <td>what is it about</td>\n",
       "      <td>ye kis bare mein hai</td>\n",
       "    </tr>\n",
       "  </tbody>\n",
       "</table>\n",
       "</div>"
      ],
      "text/plain": [
       "                                                 eng  \\\n",
       "0                                                 hi   \n",
       "1                            what moviie did you see   \n",
       "2  hello how are you? Have you heard of Batman Be...   \n",
       "3                                    no tell me more   \n",
       "4                                   what is it about   \n",
       "\n",
       "                                                hing  \n",
       "0                                                 hi  \n",
       "1                            tumne konsi movie dekhi  \n",
       "2  hello tum kaise ho? Kya tumne Batman Begins ke...  \n",
       "3                                     nahi aur batao  \n",
       "4                               ye kis bare mein hai  "
      ]
     },
     "execution_count": 7,
     "metadata": {},
     "output_type": "execute_result"
    }
   ],
   "source": [
    "import pandas as pd\n",
    "df = pd.read_csv('train_combined.csv')\n",
    "df.head()"
   ]
  },
  {
   "cell_type": "code",
   "execution_count": 8,
   "metadata": {},
   "outputs": [],
   "source": [
    "eng_vocab = set()\n",
    "hing_vocab = set()\n",
    "\n",
    "for i in range(len(df)):\n",
    "    eng_vocab.update(df['eng'][i].split())\n",
    "    hing_vocab.update(df['hing'][i].split())\n",
    "\n",
    "hindi_vocab = set(hing_vocab).difference(eng_vocab)\n",
    "\n"
   ]
  },
  {
   "cell_type": "code",
   "execution_count": 9,
   "metadata": {},
   "outputs": [],
   "source": [
    "import pandas as pd\n",
    "\n",
    "\n",
    "\n",
    "def calculate_cmi(cm, english_vocab, hindi_vocab):\n",
    "    n = 0  # total number of words\n",
    "    u = 0  # language independent words\n",
    "    matrix_language_words = 0  # number of words in the matrix language\n",
    "    eng=0\n",
    "    k=0\n",
    "    hing=0\n",
    " \n",
    "    for word in cm:\n",
    "        if word in english_vocab and word not in hindi_vocab:\n",
    "           eng += 1\n",
    "        elif word in hindi_vocab and word not in english_vocab:\n",
    "            hing += 1\n",
    "        elif word in hindi_vocab and word in english_vocab:\n",
    "            u += 1\n",
    "        else:\n",
    "            k+=1\n",
    "    \n",
    "    n = len(cm)\n",
    "    matrix_language_words = max(eng,hing)\n",
    "    if n == u:  \n",
    "        return 0\n",
    "\n",
    "    cmi = 100 * (1 - matrix_language_words / (n - u))\n",
    "    return cmi\n",
    "\n"
   ]
  },
  {
   "cell_type": "code",
   "execution_count": 10,
   "metadata": {},
   "outputs": [],
   "source": [
    "\n",
    "df = pd.read_csv('test_results_mbart.csv')\n",
    "vocab = dict()\n",
    "for row in df['third_column']:\n",
    "    words = row.split()\n",
    "    for word in words:\n",
    "        if word in vocab:\n",
    "            vocab[word] += 1\n",
    "        else:\n",
    "            vocab[word] = 1\n",
    "# vocab"
   ]
  },
  {
   "cell_type": "code",
   "execution_count": 11,
   "metadata": {},
   "outputs": [
    {
     "name": "stdout",
     "output_type": "stream",
     "text": [
      "56.013745704467354 35.799790513242556\n"
     ]
    }
   ],
   "source": [
    "corpus = df['third_column']\n",
    "corpus1 = df['hing']\n",
    "cmi = calculate_cmi(vocab, eng_vocab, hindi_vocab)\n",
    "cmi1 = calculate_cmi(hing_vocab, eng_vocab, hindi_vocab)\n",
    "\n",
    "print(cmi,cmi1)\n"
   ]
  },
  {
   "cell_type": "code",
   "execution_count": 12,
   "metadata": {},
   "outputs": [],
   "source": [
    "\n",
    "df = pd.read_csv('test_results.csv')\n",
    "vocab = dict()\n",
    "for row in df['third_column']:\n",
    "    words = row.split()\n",
    "    for word in words:\n",
    "        if word in vocab:\n",
    "            vocab[word] += 1\n",
    "        else:\n",
    "            vocab[word] = 1\n",
    "# vocab"
   ]
  },
  {
   "cell_type": "code",
   "execution_count": 13,
   "metadata": {},
   "outputs": [
    {
     "name": "stdout",
     "output_type": "stream",
     "text": [
      "35.57929334428923 35.799790513242556\n"
     ]
    }
   ],
   "source": [
    "corpus = df['third_column']\n",
    "corpus1 = df['hing']\n",
    "cmi = calculate_cmi(vocab, eng_vocab, hindi_vocab)\n",
    "cmi1 = calculate_cmi(hing_vocab, eng_vocab, hindi_vocab)\n",
    "\n",
    "print(cmi,cmi1)\n"
   ]
  }
 ],
 "metadata": {
  "kernelspec": {
   "display_name": "Python 3",
   "language": "python",
   "name": "python3"
  },
  "language_info": {
   "codemirror_mode": {
    "name": "ipython",
    "version": 3
   },
   "file_extension": ".py",
   "mimetype": "text/x-python",
   "name": "python",
   "nbconvert_exporter": "python",
   "pygments_lexer": "ipython3",
   "version": "3.10.12"
  }
 },
 "nbformat": 4,
 "nbformat_minor": 2
}
