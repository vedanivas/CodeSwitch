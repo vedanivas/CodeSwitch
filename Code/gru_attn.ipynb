{
 "cells": [
  {
   "cell_type": "code",
   "execution_count": 25,
   "metadata": {},
   "outputs": [
    {
     "data": {
      "text/plain": [
       "device(type='cuda')"
      ]
     },
     "execution_count": 25,
     "metadata": {},
     "output_type": "execute_result"
    }
   ],
   "source": [
    "from __future__ import unicode_literals, print_function, division\n",
    "from io import open\n",
    "import unicodedata\n",
    "import re\n",
    "import random\n",
    "\n",
    "import torch\n",
    "import torch.nn as nn\n",
    "from torch import optim\n",
    "import torch.nn.functional as F\n",
    "\n",
    "import warnings\n",
    "warnings.filterwarnings(\"ignore\")\n",
    "\n",
    "import numpy as np\n",
    "from torch.utils.data import TensorDataset, DataLoader, RandomSampler\n",
    "\n",
    "device = torch.device(\"cuda\" if torch.cuda.is_available() else \"cpu\")\n",
    "device"
   ]
  },
  {
   "cell_type": "code",
   "execution_count": 26,
   "metadata": {},
   "outputs": [],
   "source": [
    "## free cuda memory\n",
    "torch.cuda.empty_cache()"
   ]
  },
  {
   "cell_type": "code",
   "execution_count": 27,
   "metadata": {},
   "outputs": [],
   "source": [
    "SOS_token = 0\n",
    "EOS_token = 1\n",
    "UNK_token = 2\n",
    "\n",
    "class Lang:\n",
    "    def __init__(self, name):\n",
    "        self.name = name\n",
    "        self.word2index = { \"SOS\": 0,\"EOS\":1,\"UNK\":2}\n",
    "        self.word2count = {}\n",
    "        self.index2word = {0: \"SOS\", 1: \"EOS\",2:\"UNK\"}\n",
    "        self.n_words = 3  # Count SOS and EOS\n",
    "\n",
    "    def addSentence(self, sentence):\n",
    "        for word in sentence.split(' '):\n",
    "            self.addWord(word)\n",
    "\n",
    "    def addWord(self, word):\n",
    "        if word not in self.word2index:\n",
    "            self.word2index[word] = self.n_words\n",
    "            self.word2count[word] = 1\n",
    "            self.index2word[self.n_words] = word\n",
    "            self.n_words += 1\n",
    "        else:\n",
    "            self.word2count[word] += 1"
   ]
  },
  {
   "cell_type": "code",
   "execution_count": 28,
   "metadata": {},
   "outputs": [],
   "source": [
    "\n",
    "def unicodeToAscii(s):\n",
    "    return ''.join(\n",
    "        c for c in unicodedata.normalize('NFD', s)\n",
    "        if unicodedata.category(c) != 'Mn'\n",
    "    )\n",
    "\n",
    "# Lowercase, trim, and remove non-letter characters\n",
    "def normalizeString(s):\n",
    "    s = unicodeToAscii(s.lower().strip())\n",
    "    s = re.sub(r\"([.!?])\", r\" \\1\", s)\n",
    "    # Remove ?, :, and !\n",
    "    s = re.sub(r\"[?:!()]+\", r\"\", s)\n",
    "    s = re.sub(r\"[^a-zA-Z]+\", r\" \", s)  # Remove characters other than letters\n",
    "    return s.strip()"
   ]
  },
  {
   "cell_type": "code",
   "execution_count": 29,
   "metadata": {},
   "outputs": [],
   "source": [
    "import pandas as pd\n",
    "\n",
    "def readLangs(file, reverse=False):\n",
    "    print(\"Reading lines...\")\n",
    "        # Read the CSV file into a DataFrame\n",
    "    df = pd.read_csv(f'./{file}_combined.csv', encoding='utf-8')\n",
    "\n",
    "    # Extract pairs from DataFrame columns\n",
    "    pairs = df.values.tolist()\n",
    "\n",
    "    pairs = [[normalizeString(str(s)) for s in pair] for pair in pairs]\n",
    "\n",
    "    lang1 = 'eng'\n",
    "    lang2='hing'\n",
    "    # Reverse pairs, make Lang instances\n",
    "    if reverse:\n",
    "        pairs = [list(reversed(p)) for p in pairs]\n",
    "        input_lang = Lang(lang2)\n",
    "        output_lang = Lang(lang1)\n",
    "    else:\n",
    "        input_lang = Lang(lang1)\n",
    "        output_lang = Lang(lang2)\n",
    "\n",
    "    return input_lang, output_lang, pairs"
   ]
  },
  {
   "cell_type": "code",
   "execution_count": 30,
   "metadata": {},
   "outputs": [
    {
     "name": "stdout",
     "output_type": "stream",
     "text": [
      "Reading lines...\n"
     ]
    }
   ],
   "source": [
    "_,_,pairs = readLangs('train', False)\n"
   ]
  },
  {
   "cell_type": "code",
   "execution_count": 31,
   "metadata": {},
   "outputs": [],
   "source": [
    "def analyze_probability_distribution(pairs):\n",
    "    lengths_src = [len(sentence.split()) for sentence,b in pairs]\n",
    "    lengths_trg = [len(b.split()) for sentence,b in pairs]\n",
    "    lengths = lengths_src + lengths_trg\n",
    "    max_length = max(lengths)\n",
    "    min_length = min(lengths)\n",
    "    avg_length = sum(lengths) / len(lengths)\n",
    "    \n",
    "    # Calculate frequency of occurrence for each length\n",
    "    length_freq = {}\n",
    "    for length in lengths:\n",
    "        length_freq[length] = length_freq.get(length, 0) + 1\n",
    "    \n",
    "    # Calculate probability distribution\n",
    "    total_samples = 2*len(pairs)\n",
    "    length_probs = {length: freq / total_samples for length, freq in length_freq.items()}\n",
    "    \n",
    "    return max_length, min_length, avg_length, length_probs\n"
   ]
  },
  {
   "cell_type": "code",
   "execution_count": 32,
   "metadata": {},
   "outputs": [
    {
     "name": "stdout",
     "output_type": "stream",
     "text": [
      "(340, 0, 11.280476456355853, {1: 0.0691109870339351, 5: 0.07332961101805323, 15: 0.029034059184812954, 4: 0.06483032446181525, 12: 0.03753334574105093, 2: 0.043427011601215953, 20: 0.015385569824430796, 22: 0.01340033500837521, 8: 0.06272101246975618, 24: 0.010174328432284881, 3: 0.04088342949314474, 0: 0.0042186239841181215, 26: 0.00911967243625535, 11: 0.04677709535330976, 6: 0.06898690985793163, 18: 0.020100502512562814, 13: 0.035175879396984924, 27: 0.006700167504187605, 14: 0.030771139648861592, 10: 0.0463428252372976, 19: 0.01594391711644643, 23: 0.0110428686643092, 7: 0.06377566846578572, 17: 0.022023698740616663, 36: 0.0026056206960729574, 31: 0.004094546808114647, 41: 0.0020472734040573237, 37: 0.0026056206960729574, 9: 0.05248464544946957, 21: 0.013462373596376946, 16: 0.024939512376698305, 32: 0.004094546808114647, 25: 0.007630746324213661, 28: 0.005335318568149389, 34: 0.004839009864135492, 30: 0.0042186239841181215, 38: 0.0024815435200694833, 33: 0.003163967988088591, 40: 0.0017370804640486383, 56: 0.0002481543520069483, 35: 0.0027296978720764316, 29: 0.005831627272163286, 44: 0.0009926174080277933, 55: 0.00043427011601215957, 48: 0.0008065016440225821, 46: 0.0011166945840312675, 49: 0.0013028103480364787, 42: 0.0009926174080277933, 39: 0.0011787331720330045, 61: 0.0002481543520069483, 43: 0.0011166945840312675, 47: 0.0005583472920156337, 70: 0.00012407717600347416, 164: 0.00012407717600347416, 254: 0.00012407717600347416, 50: 0.0006203858800173708, 57: 0.0003722315280104225, 52: 0.0003722315280104225, 86: 6.203858800173708e-05, 45: 0.0009305788200260562, 77: 6.203858800173708e-05, 79: 0.0002481543520069483, 54: 0.0003101929400086854, 64: 0.00012407717600347416, 53: 0.0003101929400086854, 138: 6.203858800173708e-05, 59: 6.203858800173708e-05, 69: 0.00018611576400521124, 51: 0.0003101929400086854, 75: 6.203858800173708e-05, 113: 6.203858800173708e-05, 65: 0.00012407717600347416, 67: 0.00012407717600347416, 156: 6.203858800173708e-05, 273: 6.203858800173708e-05, 71: 6.203858800173708e-05, 62: 0.00012407717600347416, 76: 6.203858800173708e-05, 81: 6.203858800173708e-05, 73: 6.203858800173708e-05, 158: 6.203858800173708e-05, 58: 0.00012407717600347416, 60: 0.00012407717600347416, 87: 6.203858800173708e-05, 202: 6.203858800173708e-05, 340: 6.203858800173708e-05, 66: 6.203858800173708e-05, 111: 6.203858800173708e-05})\n"
     ]
    }
   ],
   "source": [
    "print(analyze_probability_distribution(pairs))"
   ]
  },
  {
   "cell_type": "code",
   "execution_count": 33,
   "metadata": {},
   "outputs": [],
   "source": [
    "MAX_LENGTH = 11\n",
    "\n",
    "def filterPair(p):\n",
    "    return len(p[0].split(' ')) < MAX_LENGTH and \\\n",
    "        len(p[1].split(' ')) < MAX_LENGTH \n",
    "\n",
    "\n",
    "def filterPairs(pairs):\n",
    "    return [pair for pair in pairs if filterPair(pair)]"
   ]
  },
  {
   "cell_type": "code",
   "execution_count": 72,
   "metadata": {},
   "outputs": [],
   "source": [
    "def prepareData(file, reverse=False):\n",
    "    input_lang, output_lang, pairs = readLangs(file, reverse)\n",
    "    print(\"Read %s sentence pairs\" % len(pairs))\n",
    "    pairs = filterPairs(pairs)\n",
    "    print(\"Counting words...\")\n",
    "    for pair in pairs:\n",
    "        input_lang.addSentence(pair[0])\n",
    "        output_lang.addSentence(pair[1])\n",
    "    print(\"Counted words:\")\n",
    "    print(input_lang.name, input_lang.n_words)\n",
    "    print(output_lang.name, output_lang.n_words)\n",
    "    return input_lang, output_lang, pairs\n"
   ]
  },
  {
   "cell_type": "code",
   "execution_count": 35,
   "metadata": {},
   "outputs": [],
   "source": [
    "class EncoderRNN(nn.Module):\n",
    "    def __init__(self, input_size, hidden_size, dropout_p=0.1):\n",
    "        super(EncoderRNN, self).__init__()\n",
    "        self.hidden_size = hidden_size\n",
    "\n",
    "        self.embedding = nn.Embedding(input_size, hidden_size)\n",
    "        self.gru = nn.GRU(hidden_size, hidden_size, batch_first=True)\n",
    "        self.dropout = nn.Dropout(dropout_p)\n",
    "\n",
    "    def forward(self, input):\n",
    "        embedded = self.dropout(self.embedding(input))\n",
    "        output, hidden = self.gru(embedded)\n",
    "        return output, hidden"
   ]
  },
  {
   "cell_type": "code",
   "execution_count": 36,
   "metadata": {},
   "outputs": [],
   "source": [
    "class DecoderRNN(nn.Module):\n",
    "    def __init__(self, hidden_size, output_size):\n",
    "        super(DecoderRNN, self).__init__()\n",
    "        self.embedding = nn.Embedding(output_size, hidden_size)\n",
    "        self.gru = nn.GRU(hidden_size, hidden_size, batch_first=True)\n",
    "        self.out = nn.Linear(hidden_size, output_size)\n",
    "\n",
    "    def forward(self, encoder_outputs, encoder_hidden, target_tensor=None):\n",
    "        batch_size = encoder_outputs.size(0)\n",
    "        decoder_input = torch.empty(batch_size, 1, dtype=torch.long, device=device).fill_(SOS_token)\n",
    "        decoder_hidden = encoder_hidden\n",
    "        decoder_outputs = []\n",
    "\n",
    "        for i in range(MAX_LENGTH):\n",
    "            decoder_output, decoder_hidden  = self.forward_step(decoder_input, decoder_hidden)\n",
    "            decoder_outputs.append(decoder_output)\n",
    "\n",
    "            if target_tensor is not None:\n",
    "                # Teacher forcing: Feed the target as the next input\n",
    "                decoder_input = target_tensor[:, i].unsqueeze(1) # Teacher forcing\n",
    "            else:\n",
    "                # Without teacher forcing: use its own predictions as the next input\n",
    "                _, topi = decoder_output.topk(1)\n",
    "                decoder_input = topi.squeeze(-1).detach()  # detach from history as input\n",
    "\n",
    "        decoder_outputs = torch.cat(decoder_outputs, dim=1)\n",
    "        decoder_outputs = F.log_softmax(decoder_outputs, dim=-1)\n",
    "        return decoder_outputs, decoder_hidden, None # We return `None` for consistency in the training loop\n",
    "\n",
    "    def forward_step(self, input, hidden):\n",
    "        output = self.embedding(input)\n",
    "        output = F.relu(output)\n",
    "        output, hidden = self.gru(output, hidden)\n",
    "        output = self.out(output)\n",
    "        return output, hidden"
   ]
  },
  {
   "cell_type": "code",
   "execution_count": 37,
   "metadata": {},
   "outputs": [],
   "source": [
    "class BahdanauAttention(nn.Module):\n",
    "    def __init__(self, hidden_size):\n",
    "        super(BahdanauAttention, self).__init__()\n",
    "        self.Wa = nn.Linear(hidden_size, hidden_size)\n",
    "        self.Ua = nn.Linear(hidden_size, hidden_size)\n",
    "        self.Va = nn.Linear(hidden_size, 1)\n",
    "\n",
    "    def forward(self, query, keys):\n",
    "        scores = self.Va(torch.tanh(self.Wa(query) + self.Ua(keys)))\n",
    "        scores = scores.squeeze(2).unsqueeze(1)\n",
    "\n",
    "        weights = F.softmax(scores, dim=-1)\n",
    "        context = torch.bmm(weights, keys)\n",
    "\n",
    "        return context, weights\n",
    "\n",
    "class AttnDecoderRNN(nn.Module):\n",
    "    def __init__(self, hidden_size, output_size, dropout_p=0.1):\n",
    "        super(AttnDecoderRNN, self).__init__()\n",
    "        self.embedding = nn.Embedding(output_size, hidden_size)\n",
    "        self.attention = BahdanauAttention(hidden_size)\n",
    "        self.gru = nn.GRU(2 * hidden_size, hidden_size, batch_first=True)\n",
    "        self.out = nn.Linear(hidden_size, output_size)\n",
    "        self.dropout = nn.Dropout(dropout_p)\n",
    "\n",
    "    def forward(self, encoder_outputs, encoder_hidden, target_tensor=None):\n",
    "        batch_size = encoder_outputs.size(0)\n",
    "        decoder_input = torch.empty(batch_size, 1, dtype=torch.long, device=device).fill_(SOS_token)\n",
    "        decoder_hidden = encoder_hidden\n",
    "        decoder_outputs = []\n",
    "        attentions = []\n",
    "\n",
    "        for i in range(MAX_LENGTH):\n",
    "            decoder_output, decoder_hidden, attn_weights = self.forward_step(\n",
    "                decoder_input, decoder_hidden, encoder_outputs\n",
    "            )\n",
    "            decoder_outputs.append(decoder_output)\n",
    "            attentions.append(attn_weights)\n",
    "\n",
    "            if target_tensor is not None:\n",
    "                # Teacher forcing: Feed the target as the next input\n",
    "                decoder_input = target_tensor[:, i].unsqueeze(1) # Teacher forcing\n",
    "            else:\n",
    "                # Without teacher forcing: use its own predictions as the next input\n",
    "                _, topi = decoder_output.topk(1)\n",
    "                decoder_input = topi.squeeze(-1).detach()  # detach from history as input\n",
    "\n",
    "        decoder_outputs = torch.cat(decoder_outputs, dim=1)\n",
    "        decoder_outputs = F.log_softmax(decoder_outputs, dim=-1)\n",
    "        attentions = torch.cat(attentions, dim=1)\n",
    "\n",
    "        return decoder_outputs, decoder_hidden, attentions\n",
    "\n",
    "\n",
    "    def forward_step(self, input, hidden, encoder_outputs):\n",
    "        embedded =  self.dropout(self.embedding(input))\n",
    "\n",
    "        query = hidden.permute(1, 0, 2)\n",
    "        context, attn_weights = self.attention(query, encoder_outputs)\n",
    "        input_gru = torch.cat((embedded, context), dim=2)\n",
    "\n",
    "        output, hidden = self.gru(input_gru, hidden)\n",
    "        output = self.out(output)\n",
    "\n",
    "        return output, hidden, attn_weights"
   ]
  },
  {
   "cell_type": "code",
   "execution_count": 38,
   "metadata": {},
   "outputs": [],
   "source": [
    "def indexesFromSentence(lang, sentence):\n",
    "    words =[]\n",
    "    for word in sentence.split(' '):\n",
    "        if word in lang.word2index:\n",
    "            words.append(word)\n",
    "        else:\n",
    "            words.append('UNK')\n",
    "    return [lang.word2index[word] for word in words]\n",
    "\n",
    "def tensorFromSentence(lang, sentence):\n",
    "    indexes = indexesFromSentence(lang, sentence)\n",
    "    indexes.append(EOS_token)\n",
    "    return torch.tensor(indexes, dtype=torch.long, device=device).view(1, -1)\n",
    "\n",
    "def get_dataloader(file,batch_size):\n",
    "    input_lang, output_lang, pairs = prepareData(file, False)\n",
    "\n",
    "    n = len(pairs)\n",
    "    input_ids = np.zeros((n, MAX_LENGTH), dtype=np.int32)\n",
    "    target_ids = np.zeros((n, MAX_LENGTH), dtype=np.int32)\n",
    "\n",
    "    for idx, (inp, tgt) in enumerate(pairs):\n",
    "        inp_ids = indexesFromSentence(input_lang, inp)\n",
    "        tgt_ids = indexesFromSentence(output_lang, tgt)\n",
    "        inp_ids.append(EOS_token)\n",
    "        tgt_ids.append(EOS_token)\n",
    "        input_ids[idx, :len(inp_ids)] = inp_ids\n",
    "        target_ids[idx, :len(tgt_ids)] = tgt_ids\n",
    "\n",
    "    train_data = TensorDataset(torch.LongTensor(input_ids).to(device),\n",
    "                               torch.LongTensor(target_ids).to(device))\n",
    "\n",
    "    train_sampler = RandomSampler(train_data)\n",
    "    train_dataloader = DataLoader(train_data, sampler=train_sampler, batch_size=batch_size)\n",
    "    return input_lang, output_lang, train_dataloader,pairs"
   ]
  },
  {
   "cell_type": "code",
   "execution_count": 39,
   "metadata": {},
   "outputs": [
    {
     "data": {
      "text/plain": [
       "8"
      ]
     },
     "execution_count": 39,
     "metadata": {},
     "output_type": "execute_result"
    }
   ],
   "source": [
    "weights = [(1, 0, 0, 0), (0.5, 0.5), (0.33, 0.33, 0.33, 0), (0.25, 0.25, 0.25, 0.25),(0.2,0.2,0.2,0.2,0.2),(0.16,0.16,0.16,0.16,0.16,0.16),(0.14,0.14,0.14,0.14,0.14,0.14,0.14),(0.125,0.125,0.125,0.125,0.125,0.125,0.125,0.125)]\n",
    "len(weights)"
   ]
  },
  {
   "cell_type": "code",
   "execution_count": 40,
   "metadata": {},
   "outputs": [],
   "source": [
    "from nltk.translate.bleu_score import sentence_bleu\n",
    "\n",
    "def bleu_score(references, candidates): # type: ignore\n",
    "    score = [0]*len(weights)\n",
    "    for i in range(len(references)):\n",
    "        for j,w in enumerate(weights):\n",
    "            ref_tokens = references[i].split()\n",
    "            can_tokens = candidates[i].split()\n",
    "            temp_score = sentence_bleu([ref_tokens], can_tokens, weights=w)\n",
    "            # add temp score truncated to 2 decimal places to score[j]\n",
    "            score[j] += temp_score # type: ignore\n",
    "    for i in range(len(score)):\n",
    "        score[i] = score[i]/len(references) # type: ignore\n",
    "        score[i] = round(score[i],6)\n",
    "    return score\n",
    "\n"
   ]
  },
  {
   "cell_type": "code",
   "execution_count": 41,
   "metadata": {},
   "outputs": [],
   "source": [
    "def train_bleuscore(input_tensor,decoder_outputs,input_lang, output_lang):\n",
    "    input_words = []\n",
    "    for idx in input_tensor:\n",
    "        temp=[]\n",
    "        for i in idx:\n",
    "            temp.append(input_lang.index2word[i.item()])\n",
    "        temp = ' '.join(temp)\n",
    "        input_words.append(temp)\n",
    "        \n",
    "    _, topi = decoder_outputs.topk(1)\n",
    "    decoded_ids = topi.squeeze()\n",
    "    decoded_words = []\n",
    "    for idx in decoded_ids:\n",
    "        temp = []\n",
    "        for i in idx:\n",
    "            if i.item() == EOS_token:\n",
    "                temp.append('<EOS>')\n",
    "                break\n",
    "            temp.append(output_lang.index2word[i.item()])\n",
    "        temp = ' '.join(temp)\n",
    "        decoded_words.append(temp)\n",
    "    bleu = bleu_score(input_words,decoded_words)\n",
    "    return bleu\n",
    "    \n",
    "    "
   ]
  },
  {
   "cell_type": "code",
   "execution_count": 42,
   "metadata": {},
   "outputs": [],
   "source": [
    "import time\n",
    "import math\n",
    "\n",
    "def asMinutes(s):\n",
    "    m = math.floor(s / 60)\n",
    "    s -= m * 60\n",
    "    return '%dm %ds' % (m, s)\n",
    "\n",
    "def timeSince(since, percent):\n",
    "    now = time.time()\n",
    "    s = now - since\n",
    "    es = s / (percent)\n",
    "    rs = es - s\n",
    "    return '%s (- %s)' % (asMinutes(s), asMinutes(rs))"
   ]
  },
  {
   "cell_type": "code",
   "execution_count": 43,
   "metadata": {},
   "outputs": [],
   "source": [
    "import matplotlib.pyplot as plt\n",
    "import matplotlib.ticker as ticker\n",
    "%matplotlib inline\n",
    "\n",
    "\n",
    "def showPlot(points):\n",
    "    plt.figure()\n",
    "    fig, ax = plt.subplots()\n",
    "    # this locator puts ticks at regular intervals\n",
    "    loc = ticker.MultipleLocator(base=0.2)\n",
    "    ax.yaxis.set_major_locator(loc)\n",
    "    plt.plot(points)"
   ]
  },
  {
   "cell_type": "code",
   "execution_count": 44,
   "metadata": {},
   "outputs": [],
   "source": [
    "\n",
    "def train_epoch(dataloader, input_lang, output_lang, encoder, decoder, encoder_optimizer,\n",
    "                decoder_optimizer, criterion, type=\"train\"):\n",
    "    total_loss = 0\n",
    "    blues = []\n",
    "    \n",
    "    for data in dataloader:\n",
    "        input_tensor, target_tensor = data\n",
    "        \n",
    "        if type == \"train\":\n",
    "            encoder_optimizer.zero_grad()\n",
    "            decoder_optimizer.zero_grad()\n",
    "\n",
    "        encoder_outputs, encoder_hidden = encoder(input_tensor)\n",
    "        decoder_outputs, _, _ = decoder(encoder_outputs, encoder_hidden, target_tensor)\n",
    "        \n",
    "        bleu = train_bleuscore(input_tensor, decoder_outputs, input_lang, output_lang)\n",
    "        blues.append(bleu)\n",
    "        \n",
    "        loss = criterion(\n",
    "            decoder_outputs.view(-1, decoder_outputs.size(-1)),\n",
    "            target_tensor.view(-1)\n",
    "        )\n",
    "        \n",
    "        if type == \"train\":\n",
    "            loss.backward()\n",
    "            encoder_optimizer.step()\n",
    "            decoder_optimizer.step()\n",
    "    \n",
    "        total_loss += loss.item()\n",
    "\n",
    "    return total_loss / len(dataloader), np.mean(blues, axis=0)\n"
   ]
  },
  {
   "cell_type": "code",
   "execution_count": 45,
   "metadata": {},
   "outputs": [],
   "source": [
    "def train(train_dataloader,val_dataloader,input_lang,output_lang, encoder, decoder, n_epochs, learning_rate=0.001,\n",
    "               print_every=100, plot_every=100):\n",
    "\n",
    "    start = time.time()\n",
    "    plot_losses = []\n",
    "    print_loss_total = 0  # Reset every print_every\n",
    "    plot_loss_total = 0  # Reset every plot_every\n",
    "    blues = []\n",
    "    blues_val = []\n",
    "    plot_losses_val = []\n",
    "    print_loss_total_val = 0  # Reset every print_every\n",
    "    plot_loss_total_val = 0  # Reset every plot_every\n",
    "    encoder_optimizer = optim.Adam(encoder.parameters(), lr=learning_rate)\n",
    "    decoder_optimizer = optim.Adam(decoder.parameters(), lr=learning_rate)\n",
    "    criterion = nn.NLLLoss()\n",
    "\n",
    "    for epoch in range(1, n_epochs + 1):\n",
    "        encoder.train()\n",
    "        decoder.train()\n",
    "        loss,blue = train_epoch(train_dataloader,input_lang,output_lang, encoder, decoder, encoder_optimizer, decoder_optimizer, criterion)\n",
    "        print_loss_total += loss\n",
    "        plot_loss_total += loss\n",
    "        encoder.eval()\n",
    "        decoder.eval()\n",
    "        loss_val,bleu_val = train_epoch(val_dataloader,input_lang,output_lang, encoder, decoder, encoder_optimizer, decoder_optimizer, criterion,\"val\")\n",
    "        print_loss_total_val += loss_val\n",
    "        plot_loss_total_val += loss_val\n",
    "        if epoch % print_every == 0:\n",
    "            print_loss_avg = print_loss_total / print_every\n",
    "            print_loss_total = 0\n",
    "            print_loss_avg_val = print_loss_total_val / print_every\n",
    "            print_loss_total_val = 0\n",
    "            print(f'{timeSince(start, epoch / n_epochs)} ({epoch / n_epochs * 100:.2f}%) Train Loss: {print_loss_avg:.4f} Val Loss: {print_loss_avg_val:.4f}')\n",
    "\n",
    "        if epoch % plot_every == 0:\n",
    "            plot_loss_avg = plot_loss_total / plot_every\n",
    "            plot_losses.append(plot_loss_avg)\n",
    "            plot_loss_total = 0\n",
    "            plot_loss_avg_val = plot_loss_total_val / plot_every\n",
    "            plot_losses_val.append(plot_loss_avg_val)\n",
    "            plot_loss_total_val = 0\n",
    "            blues_val.append(bleu_val)\n",
    "            blues.append(blue)\n",
    "\n",
    "    return blues,blues_val,plot_losses,plot_losses_val"
   ]
  },
  {
   "cell_type": "code",
   "execution_count": 46,
   "metadata": {},
   "outputs": [],
   "source": [
    "def evaluate(encoder, decoder, sentence, input_lang, output_lang):\n",
    "    with torch.no_grad():\n",
    "        input_tensor = tensorFromSentence(input_lang, sentence)\n",
    "\n",
    "        encoder_outputs, encoder_hidden = encoder(input_tensor)\n",
    "        decoder_outputs, decoder_hidden, decoder_attn = decoder(encoder_outputs, encoder_hidden)\n",
    "\n",
    "        _, topi = decoder_outputs.topk(1)\n",
    "        decoded_ids = topi.squeeze()\n",
    "\n",
    "        decoded_words = []\n",
    "        for idx in decoded_ids:\n",
    "            if idx.item() == EOS_token:\n",
    "                decoded_words.append('<EOS>')\n",
    "                break\n",
    "            decoded_words.append(output_lang.index2word[idx.item()])\n",
    "    return decoded_words, decoder_attn"
   ]
  },
  {
   "cell_type": "code",
   "execution_count": 73,
   "metadata": {},
   "outputs": [
    {
     "name": "stdout",
     "output_type": "stream",
     "text": [
      "Reading lines...\n",
      "Read 16119 sentence pairs\n",
      "Counting words...\n",
      "Counted words:\n",
      "eng 2237\n",
      "hing 3566\n",
      "=====================================\n",
      "Reading lines...\n",
      "Read 1883 sentence pairs\n",
      "Counting words...\n",
      "Counted words:\n",
      "eng 613\n",
      "hing 852\n",
      "=====================================\n",
      "Reading lines...\n",
      "Read 960 sentence pairs\n",
      "Counting words...\n",
      "Counted words:\n",
      "eng 632\n",
      "hing 913\n"
     ]
    }
   ],
   "source": [
    "hidden_size = 128\n",
    "batch_size = 32\n",
    "\n",
    "input_lang, output_lang, train_dataloader,pairs = get_dataloader('train',batch_size)\n",
    "print(\"=====================================\")\n",
    "_,_,val_dataloader,pairs_val = get_dataloader('val',batch_size)\n",
    "print(\"=====================================\")\n",
    "_,_,test_dataloader,pairs_test = get_dataloader('test',batch_size)"
   ]
  },
  {
   "cell_type": "code",
   "execution_count": 48,
   "metadata": {},
   "outputs": [
    {
     "name": "stdout",
     "output_type": "stream",
     "text": [
      "1m 7s (- 16m 58s) (6.25%) Train Loss: 2.5205 Val Loss: 4.2014\n",
      "2m 19s (- 16m 15s) (12.50%) Train Loss: 1.1956 Val Loss: 4.7872\n",
      "3m 34s (- 15m 29s) (18.75%) Train Loss: 0.5958 Val Loss: 5.3430\n",
      "4m 37s (- 13m 51s) (25.00%) Train Loss: 0.3286 Val Loss: 5.8394\n",
      "5m 41s (- 12m 31s) (31.25%) Train Loss: 0.2034 Val Loss: 6.2251\n",
      "6m 47s (- 11m 19s) (37.50%) Train Loss: 0.1434 Val Loss: 6.5293\n",
      "7m 53s (- 10m 9s) (43.75%) Train Loss: 0.1120 Val Loss: 6.8148\n",
      "9m 0s (- 9m 0s) (50.00%) Train Loss: 0.0954 Val Loss: 7.0666\n",
      "10m 6s (- 7m 51s) (56.25%) Train Loss: 0.0842 Val Loss: 7.3039\n",
      "11m 10s (- 6m 42s) (62.50%) Train Loss: 0.0782 Val Loss: 7.4811\n",
      "12m 15s (- 5m 34s) (68.75%) Train Loss: 0.0737 Val Loss: 7.6694\n",
      "13m 19s (- 4m 26s) (75.00%) Train Loss: 0.0704 Val Loss: 7.8255\n",
      "14m 24s (- 3m 19s) (81.25%) Train Loss: 0.0683 Val Loss: 7.9198\n",
      "15m 30s (- 2m 12s) (87.50%) Train Loss: 0.0664 Val Loss: 8.0104\n",
      "16m 39s (- 1m 6s) (93.75%) Train Loss: 0.0653 Val Loss: 8.1457\n",
      "17m 43s (- 0m 0s) (100.00%) Train Loss: 0.0627 Val Loss: 8.2794\n"
     ]
    }
   ],
   "source": [
    "\n",
    "\n",
    "encoder = EncoderRNN(input_lang.n_words, hidden_size).to(device)\n",
    "decoder = AttnDecoderRNN(hidden_size, output_lang.n_words).to(device)\n",
    "\n",
    "bleus,bleus_val,losses,losses_val=train(train_dataloader,val_dataloader,input_lang,output_lang, encoder, decoder, 80, print_every=5, plot_every=1)"
   ]
  },
  {
   "cell_type": "code",
   "execution_count": 49,
   "metadata": {},
   "outputs": [
    {
     "data": {
      "image/png": "[encoded data removed]",
      "text/plain": [
       "<Figure size 640x480 with 1 Axes>"
      ]
     },
     "metadata": {},
     "output_type": "display_data"
    }
   ],
   "source": [
    "import matplotlib.pyplot as plt\n",
    "plt.plot(losses, label='train')\n",
    "plt.xlabel('Epochs')\n",
    "plt.ylabel('Loss')\n",
    "plt.show()"
   ]
  },
  {
   "cell_type": "code",
   "execution_count": null,
   "metadata": {},
   "outputs": [],
   "source": [
    "# ### write code for hyperparameter tuning and plotting the results\n",
    "# learning_rates = [0.001,0.01,0.1]   \n",
    "# batch_size = [32,64]\n",
    "# hidden_size = [64,128]\n",
    "# results = []\n",
    "# for lr in learning_rates:\n",
    "#     for bs in batch_size:\n",
    "#         for hs in hidden_size:\n",
    "#                 input_lang, output_lang, train_dataloader,pairs = get_dataloader('train',bs)\n",
    "#                 _,_,val_dataloader,pairs_val = get_dataloader('val',bs)\n",
    "#                 _,_,test_dataloader,pairs_test = get_dataloader('test',bs)\n",
    "#                 encoder = EncoderRNN(input_lang.n_words, hs,1).to(device)\n",
    "#                 decoder = AttnDecoderRNN(hs, output_lang.n_words,1).to(device)\n",
    "#                 bleus,bleus_val,losses,losses_val=train(train_dataloader,val_dataloader,input_lang,output_lang, encoder, decoder,15, lr, print_every=5, plot_every=1)\n",
    "#                 print(f'Learning Rate: {lr}, Batch Size: {bs}, Hidden Size: {hs}')\n",
    "#                 print(f'Train BLEU: {bleus[-1]}, Val BLEU: {bleus_val[-1]}')\n",
    "#                 print(f'Train Loss: {losses[-1]}, Val Loss: {losses_val[-1]}')\n",
    "#                 print(\"=====================================\")\n",
    "#                 results.append({\"lr\":lr,\"bs\":bs,\"hs\":hs,\"train_bleu\":bleus,\"val_bleu\":bleus_val,\"train_loss\":losses,\"val_loss\":losses_val})\n",
    "                \n",
    "                "
   ]
  },
  {
   "cell_type": "code",
   "execution_count": 50,
   "metadata": {},
   "outputs": [],
   "source": [
    "def evaluate_test(encoder, decoder,pairs=pairs_test):\n",
    "    candidates = []\n",
    "    references = []\n",
    "    for pair in pairs:\n",
    "        references.append(pair[1])\n",
    "        output_words, _ = evaluate(encoder, decoder, pair[0], input_lang, output_lang)\n",
    "        output_sentence = ' '.join(output_words)\n",
    "        candidates.append(output_sentence)\n",
    "    return candidates,references\n",
    "\n",
    "candidates,references = evaluate_test(encoder, decoder)"
   ]
  },
  {
   "cell_type": "code",
   "execution_count": 51,
   "metadata": {},
   "outputs": [
    {
     "name": "stdout",
     "output_type": "stream",
     "text": [
      "[0.120989, 0.031799, 0.009756, 0.004685, 0.002282, 0.000845, 0.0, 0.0]\n"
     ]
    }
   ],
   "source": [
    "score=bleu_score(references,candidates)\n",
    "print(score)\n",
    "\n",
    "np.save('candidate_test_80.npy',candidates)\n",
    "np.save('references_test_80.npy',references)\n",
    "np.save('bleus_full_train_80.npy',bleus)\n",
    "np.save('bleus_full_val_80.npy',bleus_val)"
   ]
  },
  {
   "cell_type": "code",
   "execution_count": 83,
   "metadata": {},
   "outputs": [
    {
     "name": "stdout",
     "output_type": "stream",
     "text": [
      "> it s definitely an original idea\n",
      "= voh toh original idea hi hoga\n",
      "< ye robots ki main hai filam actor hai <EOS>\n",
      "\n",
      "> what do you think about the defense of the team\n",
      "= team ki suraksha ke bare mei tumhara kya kahana hai\n",
      "< kya think karte the chat ke baare mein kiya patha hein\n",
      "\n",
      "> are you a marvel fan\n",
      "= kya tum marvel fan ho\n",
      "< kya tum ke fan ho <EOS>\n",
      "\n",
      "> do you remember your favorite scene\n",
      "= kya tumhara favorite scene yaad hein kya\n",
      "< aapko movie ka favorite part kya hai <EOS>\n",
      "\n",
      "> hello\n",
      "= namaste\n",
      "< hello good afternoon <EOS>\n",
      "\n"
     ]
    }
   ],
   "source": [
    "def evaluate_randomly(encoder,decoder,pairs,n=5):\n",
    "    for i in range(n):\n",
    "        pair = random.choice(pairs)\n",
    "        print('>', pair[0])\n",
    "        print('=', pair[1])\n",
    "        output_words, _ = evaluate(encoder, decoder, pair[0], input_lang, output_lang)\n",
    "        output_sentence = ' '.join(output_words)\n",
    "        print('<', output_sentence)\n",
    "        print('')\n",
    "\n",
    "evaluate_randomly(encoder,decoder,pairs_test)"
   ]
  },
  {
   "cell_type": "code",
   "execution_count": 93,
   "metadata": {},
   "outputs": [],
   "source": [
    "def showAttention(input_sentence, output_words, attentions):\n",
    "    fig = plt.figure()\n",
    "    ax = fig.add_subplot(111)\n",
    "    cax = ax.matshow(attentions.cpu().numpy(), cmap='bone')\n",
    "    fig.colorbar(cax)\n",
    "\n",
    "    # Set up axes\n",
    "    ax.set_xticks(range(len(input_sentence.split(' ')) + 1))  \n",
    "    ax.set_yticks(range(len(output_words) + 1))\n",
    "    ax.set_xticklabels(input_sentence.split(' ') +\n",
    "                       ['<EOS>'], rotation=90)\n",
    "    ax.set_yticklabels([''] + output_words)\n",
    "\n",
    "    ax.set_xlabel('Input Sequence')\n",
    "    ax.set_ylabel('Output Sequence')\n",
    "\n",
    "    plt.show()\n",
    "\n",
    "\n",
    "def evaluateAndShowAttention(input_sentence):\n",
    "    output_words, attentions = evaluate(encoder, decoder, input_sentence, input_lang, output_lang)\n",
    "    print('input =', input_sentence)\n",
    "    print('output =', ' '.join(output_words))\n",
    "    showAttention(input_sentence, output_words, attentions[0, :len(output_words), :])\n",
    "\n"
   ]
  },
  {
   "cell_type": "code",
   "execution_count": 94,
   "metadata": {},
   "outputs": [
    {
     "name": "stdout",
     "output_type": "stream",
     "text": [
      "input = and what is your favorite part\n",
      "output = aur tumhara favorite part kya hai <EOS>\n"
     ]
    },
    {
     "data": {
      "image/png": "[encoded data removed]",
      "text/plain": [
       "<Figure size 640x480 with 2 Axes>"
      ]
     },
     "metadata": {},
     "output_type": "display_data"
    }
   ],
   "source": [
    "evaluateAndShowAttention('and what is your favorite part')\n"
   ]
  },
  {
   "cell_type": "code",
   "execution_count": 98,
   "metadata": {},
   "outputs": [
    {
     "name": "stdout",
     "output_type": "stream",
     "text": [
      "input = how did it do in the box office\n",
      "output = isne box office par kaisa perform kiya <EOS>\n"
     ]
    },
    {
     "data": {
      "image/png": "[encoded data removed]",
      "text/plain": [
       "<Figure size 640x480 with 2 Axes>"
      ]
     },
     "metadata": {},
     "output_type": "display_data"
    }
   ],
   "source": [
    "evaluateAndShowAttention('how did it do in the box office')"
   ]
  }
 ],
 "metadata": {
  "kernelspec": {
   "display_name": "Python 3",
   "language": "python",
   "name": "python3"
  },
  "language_info": {
   "codemirror_mode": {
    "name": "ipython",
    "version": 3
   },
   "file_extension": ".py",
   "mimetype": "text/x-python",
   "name": "python",
   "nbconvert_exporter": "python",
   "pygments_lexer": "ipython3",
   "version": "3.10.12"
  }
 },
 "nbformat": 4,
 "nbformat_minor": 2
}
